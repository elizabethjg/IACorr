{
 "cells": [
  {
   "cell_type": "code",
   "execution_count": 1,
   "id": "726e1f08-2cd4-4087-823d-fa2a13d4812b",
   "metadata": {},
   "outputs": [],
   "source": [
    "%load_ext autoreload\n",
    "%autoreload 2\n",
    "%matplotlib inline"
   ]
  },
  {
   "cell_type": "code",
   "execution_count": 2,
   "id": "67f66397-4ae0-49cd-850c-dac54c2a4811",
   "metadata": {},
   "outputs": [],
   "source": [
    "import sys\n",
    "import os\n",
    "import numpy as np\n",
    "import matplotlib.pyplot as plt\n",
    "import time as time\n",
    "import pandas as pd\n",
    "from scipy import stats\n",
    "import math"
   ]
  },
  {
   "cell_type": "markdown",
   "id": "e49a1ecf-eb70-421f-bb9e-89f13ac3797e",
   "metadata": {},
   "source": [
    "# Set the cosmology (distances in $Mpc/h$)"
   ]
  },
  {
   "cell_type": "code",
   "execution_count": 3,
   "id": "92b1e982-8d4c-4a94-96f3-35c8e8f301ab",
   "metadata": {},
   "outputs": [],
   "source": [
    "from astropy.cosmology import FlatLambdaCDM\n",
    "cosmology = FlatLambdaCDM(H0=100.0, Om0=0.25, Ob0=0.044)"
   ]
  },
  {
   "cell_type": "markdown",
   "id": "439a3189-1aff-4e45-aec9-4d564f1a284b",
   "metadata": {},
   "source": [
    "# Download and load catalogue"
   ]
  },
  {
   "cell_type": "markdown",
   "id": "9bf40dc3-d079-4139-99e1-8179d3897286",
   "metadata": {},
   "source": [
    "## Query to get the catalogue from CosmoHub"
   ]
  },
  {
   "cell_type": "markdown",
   "id": "e71c7212-ad0b-42d7-8351-cf6b4316768f",
   "metadata": {},
   "source": [
    "```sql\n",
    "SELECT mice2.ra_gal, \n",
    "       mice2.dec_gal, \n",
    "       mice2.z_cgal, \n",
    "       mice2_ia.eps1_gal, \n",
    "       mice2_ia.eps2_gal, \n",
    "       mice2.sdss_r_true - 0.8 * (ATAN(1.5 * mice2.z_cgal) - 0.1489) as mag_sdss_r \n",
    "FROM mice2_ia_20210203_c as mice2_ia \n",
    "JOIN cosmohub.micecatv2_0_view as mice2 \n",
    "ON mice2.unique_gal_id==mice2_ia.unique_gal_id \n",
    "WHERE \n",
    "mice2.z_cgal < 0.35 \n",
    "AND \n",
    "mice2.z_cgal > 0.15 \n",
    "AND \n",
    "mice2.sdss_r_true - 0.8 * (ATAN(1.5 * mice2.z_cgal) - 0.1489) < 17.7\n",
    "```"
   ]
  },
  {
   "cell_type": "markdown",
   "id": "39a3ac32-0f39-4eb6-a4fc-91e072814b01",
   "metadata": {},
   "source": [
    "## Load the catalogue"
   ]
  },
  {
   "cell_type": "code",
   "execution_count": 4,
   "id": "f20e5070-ed20-47d0-ab91-311bf2898925",
   "metadata": {},
   "outputs": [],
   "source": [
    "path = '/data/astro/scratch/egonzale/' # where the catalogue is saved\n",
    "file_name = 'MICE_IA_example_22052.parquet' # name of the catalogue"
   ]
  },
  {
   "cell_type": "code",
   "execution_count": 5,
   "id": "5f932534-ac3f-4910-9cc5-0920832305dc",
   "metadata": {},
   "outputs": [
    {
     "name": "stdout",
     "output_type": "stream",
     "text": [
      "Reading catalogue /data/astro/scratch/egonzale/MICE_IA_example_22052.parquet\n"
     ]
    }
   ],
   "source": [
    "catalog_filename = path+file_name\n",
    "print('Reading catalogue '+catalog_filename)\n",
    "cat_input = pd.read_parquet(catalog_filename)\n"
   ]
  },
  {
   "cell_type": "code",
   "execution_count": 6,
   "id": "bd44299b-0827-4c25-ad22-eb18915f7559",
   "metadata": {},
   "outputs": [
    {
     "data": {
      "text/html": [
       "<div>\n",
       "<style scoped>\n",
       "    .dataframe tbody tr th:only-of-type {\n",
       "        vertical-align: middle;\n",
       "    }\n",
       "\n",
       "    .dataframe tbody tr th {\n",
       "        vertical-align: top;\n",
       "    }\n",
       "\n",
       "    .dataframe thead th {\n",
       "        text-align: right;\n",
       "    }\n",
       "</style>\n",
       "<table border=\"1\" class=\"dataframe\">\n",
       "  <thead>\n",
       "    <tr style=\"text-align: right;\">\n",
       "      <th></th>\n",
       "      <th>ra_gal</th>\n",
       "      <th>dec_gal</th>\n",
       "      <th>z_cgal</th>\n",
       "      <th>eps1_gal</th>\n",
       "      <th>eps2_gal</th>\n",
       "      <th>mag_sdss_r</th>\n",
       "    </tr>\n",
       "  </thead>\n",
       "  <tbody>\n",
       "    <tr>\n",
       "      <th>0</th>\n",
       "      <td>45.105341</td>\n",
       "      <td>17.931202</td>\n",
       "      <td>0.15288</td>\n",
       "      <td>0.068511</td>\n",
       "      <td>0.021699</td>\n",
       "      <td>17.053782</td>\n",
       "    </tr>\n",
       "    <tr>\n",
       "      <th>1</th>\n",
       "      <td>44.980870</td>\n",
       "      <td>17.960592</td>\n",
       "      <td>0.15309</td>\n",
       "      <td>0.352040</td>\n",
       "      <td>-0.001282</td>\n",
       "      <td>16.947543</td>\n",
       "    </tr>\n",
       "    <tr>\n",
       "      <th>2</th>\n",
       "      <td>45.660744</td>\n",
       "      <td>17.512341</td>\n",
       "      <td>0.15252</td>\n",
       "      <td>0.142230</td>\n",
       "      <td>-0.110380</td>\n",
       "      <td>17.565192</td>\n",
       "    </tr>\n",
       "    <tr>\n",
       "      <th>3</th>\n",
       "      <td>43.668229</td>\n",
       "      <td>16.102009</td>\n",
       "      <td>0.15016</td>\n",
       "      <td>0.008911</td>\n",
       "      <td>-0.028600</td>\n",
       "      <td>17.339886</td>\n",
       "    </tr>\n",
       "    <tr>\n",
       "      <th>4</th>\n",
       "      <td>43.213686</td>\n",
       "      <td>17.717652</td>\n",
       "      <td>0.15170</td>\n",
       "      <td>-0.505704</td>\n",
       "      <td>-0.041507</td>\n",
       "      <td>17.499128</td>\n",
       "    </tr>\n",
       "    <tr>\n",
       "      <th>...</th>\n",
       "      <td>...</td>\n",
       "      <td>...</td>\n",
       "      <td>...</td>\n",
       "      <td>...</td>\n",
       "      <td>...</td>\n",
       "      <td>...</td>\n",
       "    </tr>\n",
       "    <tr>\n",
       "      <th>70418</th>\n",
       "      <td>59.639502</td>\n",
       "      <td>13.160986</td>\n",
       "      <td>0.26821</td>\n",
       "      <td>-0.168962</td>\n",
       "      <td>0.217767</td>\n",
       "      <td>17.459120</td>\n",
       "    </tr>\n",
       "    <tr>\n",
       "      <th>70419</th>\n",
       "      <td>60.749044</td>\n",
       "      <td>12.273790</td>\n",
       "      <td>0.27103</td>\n",
       "      <td>0.221832</td>\n",
       "      <td>-0.248740</td>\n",
       "      <td>17.668211</td>\n",
       "    </tr>\n",
       "    <tr>\n",
       "      <th>70420</th>\n",
       "      <td>56.291383</td>\n",
       "      <td>10.872940</td>\n",
       "      <td>0.27722</td>\n",
       "      <td>0.095308</td>\n",
       "      <td>-0.285069</td>\n",
       "      <td>17.686857</td>\n",
       "    </tr>\n",
       "    <tr>\n",
       "      <th>70421</th>\n",
       "      <td>52.248698</td>\n",
       "      <td>20.573132</td>\n",
       "      <td>0.29538</td>\n",
       "      <td>-0.457101</td>\n",
       "      <td>0.000787</td>\n",
       "      <td>17.620458</td>\n",
       "    </tr>\n",
       "    <tr>\n",
       "      <th>70422</th>\n",
       "      <td>57.677391</td>\n",
       "      <td>27.930027</td>\n",
       "      <td>0.31976</td>\n",
       "      <td>0.209019</td>\n",
       "      <td>-0.202945</td>\n",
       "      <td>17.677338</td>\n",
       "    </tr>\n",
       "  </tbody>\n",
       "</table>\n",
       "<p>70423 rows × 6 columns</p>\n",
       "</div>"
      ],
      "text/plain": [
       "          ra_gal    dec_gal   z_cgal  eps1_gal  eps2_gal  mag_sdss_r\n",
       "0      45.105341  17.931202  0.15288  0.068511  0.021699   17.053782\n",
       "1      44.980870  17.960592  0.15309  0.352040 -0.001282   16.947543\n",
       "2      45.660744  17.512341  0.15252  0.142230 -0.110380   17.565192\n",
       "3      43.668229  16.102009  0.15016  0.008911 -0.028600   17.339886\n",
       "4      43.213686  17.717652  0.15170 -0.505704 -0.041507   17.499128\n",
       "...          ...        ...      ...       ...       ...         ...\n",
       "70418  59.639502  13.160986  0.26821 -0.168962  0.217767   17.459120\n",
       "70419  60.749044  12.273790  0.27103  0.221832 -0.248740   17.668211\n",
       "70420  56.291383  10.872940  0.27722  0.095308 -0.285069   17.686857\n",
       "70421  52.248698  20.573132  0.29538 -0.457101  0.000787   17.620458\n",
       "70422  57.677391  27.930027  0.31976  0.209019 -0.202945   17.677338\n",
       "\n",
       "[70423 rows x 6 columns]"
      ]
     },
     "execution_count": 6,
     "metadata": {},
     "output_type": "execute_result"
    }
   ],
   "source": [
    "cat_input"
   ]
  },
  {
   "cell_type": "markdown",
   "id": "f595b78e-ed01-491d-8489-e57b22207f6d",
   "metadata": {},
   "source": [
    "## Define column names to be used and modify the catalogue (if necessary)"
   ]
  },
  {
   "cell_type": "code",
   "execution_count": 7,
   "id": "5a31bb9e-63d3-46f3-ac61-ebcf55efed95",
   "metadata": {},
   "outputs": [],
   "source": [
    "col_names = ['ra_gal','dec_gal','r_com','eps1_gal','eps2_gal', 'weight']\n",
    "ra,dec,d,g1,g2, w = col_names\n",
    "redshift = 'z_cgal'"
   ]
  },
  {
   "cell_type": "code",
   "execution_count": 8,
   "id": "31621a7b-007d-43a1-bcdc-d61412f27340",
   "metadata": {},
   "outputs": [
    {
     "data": {
      "text/plain": [
       "Index(['ra_gal', 'dec_gal', 'z_cgal', 'eps1_gal', 'eps2_gal', 'mag_sdss_r'], dtype='object')"
      ]
     },
     "execution_count": 8,
     "metadata": {},
     "output_type": "execute_result"
    }
   ],
   "source": [
    "cat_input.columns"
   ]
  },
  {
   "cell_type": "code",
   "execution_count": 9,
   "id": "d8d6201e-10fd-46c1-9ab5-5a2421cf8c56",
   "metadata": {},
   "outputs": [
    {
     "data": {
      "text/html": [
       "<div>\n",
       "<style scoped>\n",
       "    .dataframe tbody tr th:only-of-type {\n",
       "        vertical-align: middle;\n",
       "    }\n",
       "\n",
       "    .dataframe tbody tr th {\n",
       "        vertical-align: top;\n",
       "    }\n",
       "\n",
       "    .dataframe thead th {\n",
       "        text-align: right;\n",
       "    }\n",
       "</style>\n",
       "<table border=\"1\" class=\"dataframe\">\n",
       "  <thead>\n",
       "    <tr style=\"text-align: right;\">\n",
       "      <th></th>\n",
       "      <th>ra_gal</th>\n",
       "      <th>dec_gal</th>\n",
       "      <th>z_cgal</th>\n",
       "      <th>eps1_gal</th>\n",
       "      <th>eps2_gal</th>\n",
       "      <th>mag_sdss_r</th>\n",
       "    </tr>\n",
       "  </thead>\n",
       "  <tbody>\n",
       "    <tr>\n",
       "      <th>0</th>\n",
       "      <td>45.105341</td>\n",
       "      <td>17.931202</td>\n",
       "      <td>0.15288</td>\n",
       "      <td>-0.068511</td>\n",
       "      <td>0.021699</td>\n",
       "      <td>17.053782</td>\n",
       "    </tr>\n",
       "    <tr>\n",
       "      <th>1</th>\n",
       "      <td>44.980870</td>\n",
       "      <td>17.960592</td>\n",
       "      <td>0.15309</td>\n",
       "      <td>-0.352040</td>\n",
       "      <td>-0.001282</td>\n",
       "      <td>16.947543</td>\n",
       "    </tr>\n",
       "    <tr>\n",
       "      <th>2</th>\n",
       "      <td>45.660744</td>\n",
       "      <td>17.512341</td>\n",
       "      <td>0.15252</td>\n",
       "      <td>-0.142230</td>\n",
       "      <td>-0.110380</td>\n",
       "      <td>17.565192</td>\n",
       "    </tr>\n",
       "    <tr>\n",
       "      <th>3</th>\n",
       "      <td>43.668229</td>\n",
       "      <td>16.102009</td>\n",
       "      <td>0.15016</td>\n",
       "      <td>-0.008911</td>\n",
       "      <td>-0.028600</td>\n",
       "      <td>17.339886</td>\n",
       "    </tr>\n",
       "    <tr>\n",
       "      <th>4</th>\n",
       "      <td>43.213686</td>\n",
       "      <td>17.717652</td>\n",
       "      <td>0.15170</td>\n",
       "      <td>0.505704</td>\n",
       "      <td>-0.041507</td>\n",
       "      <td>17.499128</td>\n",
       "    </tr>\n",
       "    <tr>\n",
       "      <th>...</th>\n",
       "      <td>...</td>\n",
       "      <td>...</td>\n",
       "      <td>...</td>\n",
       "      <td>...</td>\n",
       "      <td>...</td>\n",
       "      <td>...</td>\n",
       "    </tr>\n",
       "    <tr>\n",
       "      <th>70418</th>\n",
       "      <td>59.639502</td>\n",
       "      <td>13.160986</td>\n",
       "      <td>0.26821</td>\n",
       "      <td>0.168962</td>\n",
       "      <td>0.217767</td>\n",
       "      <td>17.459120</td>\n",
       "    </tr>\n",
       "    <tr>\n",
       "      <th>70419</th>\n",
       "      <td>60.749044</td>\n",
       "      <td>12.273790</td>\n",
       "      <td>0.27103</td>\n",
       "      <td>-0.221832</td>\n",
       "      <td>-0.248740</td>\n",
       "      <td>17.668211</td>\n",
       "    </tr>\n",
       "    <tr>\n",
       "      <th>70420</th>\n",
       "      <td>56.291383</td>\n",
       "      <td>10.872940</td>\n",
       "      <td>0.27722</td>\n",
       "      <td>-0.095308</td>\n",
       "      <td>-0.285069</td>\n",
       "      <td>17.686857</td>\n",
       "    </tr>\n",
       "    <tr>\n",
       "      <th>70421</th>\n",
       "      <td>52.248698</td>\n",
       "      <td>20.573132</td>\n",
       "      <td>0.29538</td>\n",
       "      <td>0.457101</td>\n",
       "      <td>0.000787</td>\n",
       "      <td>17.620458</td>\n",
       "    </tr>\n",
       "    <tr>\n",
       "      <th>70422</th>\n",
       "      <td>57.677391</td>\n",
       "      <td>27.930027</td>\n",
       "      <td>0.31976</td>\n",
       "      <td>-0.209019</td>\n",
       "      <td>-0.202945</td>\n",
       "      <td>17.677338</td>\n",
       "    </tr>\n",
       "  </tbody>\n",
       "</table>\n",
       "<p>70423 rows × 6 columns</p>\n",
       "</div>"
      ],
      "text/plain": [
       "          ra_gal    dec_gal   z_cgal  eps1_gal  eps2_gal  mag_sdss_r\n",
       "0      45.105341  17.931202  0.15288 -0.068511  0.021699   17.053782\n",
       "1      44.980870  17.960592  0.15309 -0.352040 -0.001282   16.947543\n",
       "2      45.660744  17.512341  0.15252 -0.142230 -0.110380   17.565192\n",
       "3      43.668229  16.102009  0.15016 -0.008911 -0.028600   17.339886\n",
       "4      43.213686  17.717652  0.15170  0.505704 -0.041507   17.499128\n",
       "...          ...        ...      ...       ...       ...         ...\n",
       "70418  59.639502  13.160986  0.26821  0.168962  0.217767   17.459120\n",
       "70419  60.749044  12.273790  0.27103 -0.221832 -0.248740   17.668211\n",
       "70420  56.291383  10.872940  0.27722 -0.095308 -0.285069   17.686857\n",
       "70421  52.248698  20.573132  0.29538  0.457101  0.000787   17.620458\n",
       "70422  57.677391  27.930027  0.31976 -0.209019 -0.202945   17.677338\n",
       "\n",
       "[70423 rows x 6 columns]"
      ]
     },
     "execution_count": 9,
     "metadata": {},
     "output_type": "execute_result"
    }
   ],
   "source": [
    "cat_input[g1] = -1*cat_input[g1]\n",
    "cat_input[g2] = cat_input[g2]\n",
    "cat_input"
   ]
  },
  {
   "cell_type": "markdown",
   "id": "d3af24fe-03f9-4d47-9777-97eeb5da98b7",
   "metadata": {},
   "source": [
    "## Define shape and position catalogues"
   ]
  },
  {
   "cell_type": "code",
   "execution_count": 10,
   "id": "1c416f2a-6a65-41e4-aa69-f27fb547cc05",
   "metadata": {},
   "outputs": [],
   "source": [
    "mcut = 17.3"
   ]
  },
  {
   "cell_type": "code",
   "execution_count": 11,
   "id": "4181907a-70e0-4c87-bc24-c84ff5b6629f",
   "metadata": {},
   "outputs": [
    {
     "data": {
      "text/plain": [
       "(70423, 20498)"
      ]
     },
     "execution_count": 11,
     "metadata": {},
     "output_type": "execute_result"
    }
   ],
   "source": [
    "positions = cat_input\n",
    "shapes    = cat_input[cat_input.mag_sdss_r < mcut]\n",
    "len(positions), len(shapes)"
   ]
  },
  {
   "cell_type": "code",
   "execution_count": 12,
   "id": "d3ea982b-870d-432f-9047-ccfb88a49c7f",
   "metadata": {},
   "outputs": [
    {
     "data": {
      "text/plain": [
       "Text(0, 0.5, 'N')"
      ]
     },
     "execution_count": 12,
     "metadata": {},
     "output_type": "execute_result"
    },
    {
     "data": {
      "image/png": "[encoded data removed]",
      "text/plain": [
       "<Figure size 640x480 with 1 Axes>"
      ]
     },
     "metadata": {},
     "output_type": "display_data"
    }
   ],
   "source": [
    "plt.hist(positions.mag_sdss_r,100,histtype='step')\n",
    "plt.axvspan(mcut,max(positions.mag_sdss_r),alpha=0.5)\n",
    "plt.xlabel('mag_sdss_r')\n",
    "plt.ylabel('N')"
   ]
  },
  {
   "cell_type": "code",
   "execution_count": 13,
   "id": "206c6eae-f6c6-47f4-ad68-f2192babc2ac",
   "metadata": {},
   "outputs": [],
   "source": [
    "positions.loc[:,'weight'] = np.ones(len(positions))"
   ]
  },
  {
   "cell_type": "code",
   "execution_count": 14,
   "id": "49abb449-4736-4e4a-8770-effc0d6f598f",
   "metadata": {},
   "outputs": [
    {
     "name": "stderr",
     "output_type": "stream",
     "text": [
      "/tmp/ipykernel_3131961/2915581097.py:1: SettingWithCopyWarning: \n",
      "A value is trying to be set on a copy of a slice from a DataFrame.\n",
      "Try using .loc[row_indexer,col_indexer] = value instead\n",
      "\n",
      "See the caveats in the documentation: https://pandas.pydata.org/pandas-docs/stable/user_guide/indexing.html#returning-a-view-versus-a-copy\n",
      "  shapes.loc[:,'weight'] = np.clip((1./shapes.mag_sdss_r - 1./19)/0.01,0.,1)\n"
     ]
    }
   ],
   "source": [
    "shapes.loc[:,'weight'] = np.clip((1./shapes.mag_sdss_r - 1./19)/0.01,0.,1)"
   ]
  },
  {
   "cell_type": "code",
   "execution_count": 15,
   "id": "7fa5fb99-6413-4f15-90f2-2587e465a909",
   "metadata": {},
   "outputs": [
    {
     "data": {
      "text/plain": [
       "Text(0, 0.5, 'weight')"
      ]
     },
     "execution_count": 15,
     "metadata": {},
     "output_type": "execute_result"
    },
    {
     "data": {
      "image/png": "[encoded data removed]",
      "text/plain": [
       "<Figure size 640x480 with 1 Axes>"
      ]
     },
     "metadata": {},
     "output_type": "display_data"
    }
   ],
   "source": [
    "plt.plot(shapes.mag_sdss_r,shapes['weight'],',')\n",
    "plt.xlabel('mag_sdss_r')\n",
    "plt.ylabel('weight')"
   ]
  },
  {
   "cell_type": "markdown",
   "id": "763f9ccd-80e5-4927-8357-bc3d6be33523",
   "metadata": {},
   "source": [
    "## Compute randoms "
   ]
  },
  {
   "cell_type": "code",
   "execution_count": 16,
   "id": "04633f40-6c28-41b7-bf74-866327a7c51d",
   "metadata": {},
   "outputs": [],
   "source": [
    "from IACorr import make_randoms_lightcone as make_randoms"
   ]
  },
  {
   "cell_type": "code",
   "execution_count": 17,
   "id": "2ee7f560-da7e-4c94-811b-532debd84a07",
   "metadata": {},
   "outputs": [
    {
     "name": "stderr",
     "output_type": "stream",
     "text": [
      "/nfs/pic.es/user/e/egonzale/env/scipic_home/lib64/python3.9/site-packages/IACorr/compute_IA_corr_from_data.py:1704: RankWarning: Polyfit may be poorly conditioned\n",
      "  poly = np.polyfit(x,y,n)\n",
      "/nfs/pic.es/user/e/egonzale/env/scipic_home/lib64/python3.9/site-packages/IACorr/compute_IA_corr_from_data.py:1704: RankWarning: Polyfit may be poorly conditioned\n",
      "  poly = np.polyfit(x,y,n)\n"
     ]
    }
   ],
   "source": [
    "random_positions = make_randoms(positions[ra], positions[dec], positions[redshift], len(positions)*10, col_names=[ra,dec,redshift])\n",
    "random_shapes    = make_randoms(shapes[ra], shapes[dec], shapes[redshift], len(shapes)*10, col_names=[ra,dec,redshift])"
   ]
  },
  {
   "cell_type": "code",
   "execution_count": 18,
   "id": "f3599199-7b68-4f18-b63e-54391b3b8ed5",
   "metadata": {},
   "outputs": [
    {
     "data": {
      "text/plain": [
       "<matplotlib.legend.Legend at 0x7f54740e5550>"
      ]
     },
     "execution_count": 18,
     "metadata": {},
     "output_type": "execute_result"
    },
    {
     "data": {
      "image/png": "[encoded data removed]",
      "text/plain": [
       "<Figure size 640x480 with 1 Axes>"
      ]
     },
     "metadata": {},
     "output_type": "display_data"
    },
    {
     "data": {
      "image/png": "[encoded data removed]",
      "text/plain": [
       "<Figure size 640x480 with 1 Axes>"
      ]
     },
     "metadata": {},
     "output_type": "display_data"
    },
    {
     "data": {
      "image/png": "[encoded data removed]",
      "text/plain": [
       "<Figure size 640x480 with 1 Axes>"
      ]
     },
     "metadata": {},
     "output_type": "display_data"
    }
   ],
   "source": [
    "plt.figure()\n",
    "plt.hist(positions[redshift],100,histtype='step',density=True,label='positions')\n",
    "plt.hist(shapes[redshift],100,histtype='step',density=True,label='shapes')\n",
    "plt.hist(random_positions[redshift],100,histtype='step',density=True,label='Random positions',lw=2,alpha=0.5,color='C0')\n",
    "plt.hist(random_shapes[redshift],100,histtype='step',density=True,label='Random shapes',lw=2,alpha=0.5,color='C1')\n",
    "plt.xlabel(redshift)\n",
    "plt.ylabel('n')\n",
    "plt.legend()\n",
    "\n",
    "\n",
    "plt.figure()\n",
    "plt.hist(np.sin(np.deg2rad(positions[dec])),100,histtype='step',density=True,label='positions')\n",
    "plt.hist(np.sin(np.deg2rad(shapes[dec])),100,histtype='step',density=True,label='shapes')\n",
    "plt.hist(np.sin(np.deg2rad(random_positions[dec])),100,histtype='step',density=True,label='Random positions',lw=2,alpha=0.5,color='C0')\n",
    "plt.hist(np.sin(np.deg2rad(random_shapes[dec])),100,histtype='step',density=True,label='Random shapes',lw=2,alpha=0.5,color='C1')\n",
    "plt.xlabel('sin('+dec+')')\n",
    "plt.ylabel('n')\n",
    "plt.legend()\n",
    "\n",
    "plt.figure()\n",
    "plt.hist(positions[ra],100,histtype='step',density=True,label='positions')\n",
    "plt.hist(shapes[ra],100,histtype='step',density=True,label='shapes')\n",
    "plt.hist(random_positions[ra],100,histtype='step',density=True,label='Random positions',lw=2,alpha=0.5,color='C0')\n",
    "plt.hist(random_shapes[ra],100,histtype='step',density=True,label='Random shapes',lw=2,alpha=0.5,color='C1')\n",
    "plt.xlabel(ra)\n",
    "plt.ylabel('n')\n",
    "plt.legend()\n",
    "\n"
   ]
  },
  {
   "cell_type": "markdown",
   "id": "4b745a66-f108-4ea8-a1c4-f9d3f18593df",
   "metadata": {},
   "source": [
    "## Compute comoving distances"
   ]
  },
  {
   "cell_type": "code",
   "execution_count": 19,
   "id": "e35885ee-fff6-40df-bffe-0cc43ff076de",
   "metadata": {},
   "outputs": [
    {
     "name": "stderr",
     "output_type": "stream",
     "text": [
      "/tmp/ipykernel_3131961/3052891530.py:2: SettingWithCopyWarning: \n",
      "A value is trying to be set on a copy of a slice from a DataFrame.\n",
      "Try using .loc[row_indexer,col_indexer] = value instead\n",
      "\n",
      "See the caveats in the documentation: https://pandas.pydata.org/pandas-docs/stable/user_guide/indexing.html#returning-a-view-versus-a-copy\n",
      "  shapes.loc[:,d]    = cosmology.comoving_distance(shapes[redshift]).value\n"
     ]
    }
   ],
   "source": [
    "positions.loc[:,d] = cosmology.comoving_distance(positions[redshift]).value\n",
    "shapes.loc[:,d]    = cosmology.comoving_distance(shapes[redshift]).value\n",
    "random_positions[d] = cosmology.comoving_distance(random_positions[redshift]).value\n",
    "random_shapes[d]    = cosmology.comoving_distance(random_shapes[redshift]).value"
   ]
  },
  {
   "cell_type": "markdown",
   "id": "c4a89121-da44-4f0b-9c5d-88bd71d7714b",
   "metadata": {},
   "source": [
    "# Compute correlations"
   ]
  },
  {
   "cell_type": "markdown",
   "id": "8c3d5fe6-a27a-414e-9bfb-a3a3a55d2cbe",
   "metadata": {},
   "source": [
    "## Set-up parameters"
   ]
  },
  {
   "cell_type": "code",
   "execution_count": 20,
   "id": "ce80c6c0-b747-4daa-aaa9-9c3e3205fd62",
   "metadata": {},
   "outputs": [
    {
     "name": "stdout",
     "output_type": "stream",
     "text": [
      "Number of patches 31\n"
     ]
    }
   ],
   "source": [
    "# parameters related with bins\n",
    "nbins = 10 # number of radial bins\n",
    "rmin = 0.2 # minimum value for rp (r in case of the quadrupole)\n",
    "rmax = 50. # maximum value for rp (r in case of the quadrupole)\n",
    "pi_max = 30. # maximum value along l.o.s. (Pi) \n",
    "npi = 5 # number of bins in Pi\n",
    "mubins = 10 # number of bins in mu\n",
    "\n",
    "# Related to JK patches\n",
    "NPatches = int(nbins**(3./2.))\n",
    "print('Number of patches',NPatches)\n",
    "# Other configuration parameters\n",
    "ncores = 30 # Number of cores to run in parallel\n",
    "slop = 0. # Resolution for treecorr\n",
    "box = False # Indicates if the data corresponds to a box, otherwise it will assume a lightcone\n",
    "exact_position = True # Indicates if the coordinates are exactly provided (e.g. simulated data \n",
    "# without any error added in the position). Otherwise it will assume that the positions are not\n",
    "# exact and will use ra, dec to match the catalogues. If this parameter is set as True, it\n",
    "# will neglect box and it will set it as False\n",
    "sky_threshold = 1.0 # Threshold for matching the catalogues in arcsecond, used if exact_position\n",
    "#is set to True.\n",
    "grid_resolution = 50 # Resolution of the grid used to compute the quadrupole, a lower number will\n",
    "#speed up the computation but reaches to larger radial distances."
   ]
  },
  {
   "cell_type": "markdown",
   "id": "fcdabbc9-3dbc-4f9e-931b-f5afb732d385",
   "metadata": {},
   "source": [
    "## Make configuration input"
   ]
  },
  {
   "cell_type": "code",
   "execution_count": 21,
   "id": "e0aec90f-1436-4843-9abf-b5359b982d4b",
   "metadata": {},
   "outputs": [],
   "source": [
    "config = {'col_names': col_names,\n",
    "          'nbins': nbins,\n",
    "          'rmin': rmin,\n",
    "          'rmax': rmax,\n",
    "          'pi_max': pi_max,\n",
    "          'npi': npi,\n",
    "          'grid_resolution': grid_resolution,\n",
    "          'mubins': mubins,\n",
    "          'NPatches': NPatches,\n",
    "          'ncores': ncores,\n",
    "          'slop': slop,\n",
    "          'box': box,\n",
    "          'exact_position': exact_position,\n",
    "          'sky_threshold': sky_threshold,\n",
    "         }\n",
    "          "
   ]
  },
  {
   "cell_type": "markdown",
   "id": "a954ed45-05e9-4f7d-b872-0821cb72619d",
   "metadata": {},
   "source": [
    "## Initialize "
   ]
  },
  {
   "cell_type": "code",
   "execution_count": 22,
   "id": "93ba6aa3-5ba1-412d-a5b7-bca7287e25f6",
   "metadata": {},
   "outputs": [],
   "source": [
    "from IACorr import compute_2p_corr"
   ]
  },
  {
   "cell_type": "code",
   "execution_count": 23,
   "id": "29455214-18c8-43b8-a563-7711d23a1263",
   "metadata": {},
   "outputs": [
    {
     "name": "stdout",
     "output_type": "stream",
     "text": [
      "\n",
      "    Computes correlation estimators useful to measure Intrinsic Alignment.\n",
      "\n",
      "    This class calculates the projected galaxy-galaxy (wgg), galaxy-shear (wg+, wgx),\n",
      "    and the quadrupole component of the galaxy-shear (wg+2, wgx2) correlations.\n",
      "    \n",
      "    Arguments:\n",
      "    -----------\n",
      "        positions (pandas array): Catalogue of galaxy positions.\n",
      "        shapes (pandas array): Catalogue of galaxy positions and shapes.\n",
      "        randoms_positions (pandas array): Catalogue of randoms positions.\n",
      "        randoms_shapes (pandas array): Catalogue of random positions for the shape catalogue.\n",
      "\n",
      "    Attributes:\n",
      "    -----------\n",
      "        config (dict): Configuration dictionary for the computation.\n",
      "        scat (treecorr.Catalog): Catalog of shapes.\n",
      "        pcat (treecorr.Catalog): Catalog of positions.\n",
      "        rpcat (treecorr.Catalog): Catalog of random positions.\n",
      "        rscat (treecorr.Catalog): Catalog of random positions.\n",
      "        wgg (object, optional): Projected galaxy-galaxy (position-position) correlation.\n",
      "        wgg_cross (object, optional): Projected galaxy-galaxy (position-shape) correlation.\n",
      "        wgp (object, optional): Projected galaxy-shear plus correlation.\n",
      "        wgx (object, optional): Projected galaxy-shear cross correlation.\n",
      "        wgp2 (object, optional): Projected quadrupole galaxy-shear plus correlation.\n",
      "        wgx2 (object, optional): Projected quadrupole galaxy-shear cross correlation.\n",
      "        wgp_fast (object, optional): Alternative computation of the projected galaxy-shear plus correlation.\n",
      "        wgp2_fast (object, optional): Alternative computation of the projected quadrupole galaxy-shear plus correlation.\n",
      "\n",
      "    Methods:\n",
      "    -----------\n",
      "        compute_wgg():\n",
      "            Computes the projected galaxy-galaxy correlation.\n",
      "        compute_wgg_cross():\n",
      "            Computes the cross projected position-shape correlation.            \n",
      "        compute_wgp():\n",
      "            Computes the projected galaxy-shape plus and cross correlation.\n",
      "        compute_wgp2():\n",
      "            Computes the projected quadrupole galaxy-shape plus and cross correlation.\n",
      "        compute_wpp():\n",
      "            Computes the projected shape-shape plus and cross correlation.            \n",
      "        compute_wgp_fast():\n",
      "            Computes the projected galaxy-shape plus correlation. Allows the pre-computation of the number of pairs in the random catalogues and computes the correlation for different shapes catalogues.\n",
      "        compute_wgp2_fast():\n",
      "            Computes the projected quadrupole galaxy-shape plus correlation. Allows the pre-computation of the number of pairs in the random catalogues and computes the correlation for different shapes catalogues.\n",
      "            \n",
      "    \n"
     ]
    }
   ],
   "source": [
    "corr = compute_2p_corr(positions,shapes,random_positions,random_shapes,config)\n",
    "print(corr.__doc__)"
   ]
  },
  {
   "cell_type": "markdown",
   "id": "f5e56006-5a13-4774-9e15-447ff2c03c32",
   "metadata": {},
   "source": [
    "## Compute correlations"
   ]
  },
  {
   "cell_type": "markdown",
   "id": "7e5d6da0-e90f-42f8-87e5-671db1d4548b",
   "metadata": {},
   "source": [
    "## $w_{gg}$"
   ]
  },
  {
   "cell_type": "code",
   "execution_count": 24,
   "id": "2fd19257-c0cc-4d95-a171-9f07c41e0be8",
   "metadata": {},
   "outputs": [
    {
     "name": "stdout",
     "output_type": "stream",
     "text": [
      "CPU times: user 30min 25s, sys: 7.93 s, total: 30min 33s\n",
      "Wall time: 1min 16s\n"
     ]
    }
   ],
   "source": [
    "%%time\n",
    "corr.compute_wgg()"
   ]
  },
  {
   "cell_type": "code",
   "execution_count": 25,
   "id": "8edfb682-7816-4677-ae00-7888c0b5a54f",
   "metadata": {},
   "outputs": [
    {
     "name": "stdout",
     "output_type": "stream",
     "text": [
      "\n",
      "        Computes the galaxy-galaxy correlation.\n",
      "        \n",
      "        Arguments:\n",
      "        -----------\n",
      "            config (dict): Configuration dictionary for the computation.\n",
      "            dcat (treecorr.Catalog): Catalog of data points.\n",
      "            rcat (treecorr.Catalog): Catalog of random points.        \n",
      "        Attributes:\n",
      "        -----------\n",
      "            rp (ndarray): Array of projected radial separation bins.\n",
      "            mean_logrp (ndarray): Mean logarithmic projected radial separation bins.\n",
      "            mean_rp (ndarray): Mean projected radial separation bins.\n",
      "            Pi (ndarray): Array of l.o.s. separation bins.\n",
      "            xi (ndarray): 2D Correlation function in bins of projected and l.o.s distance.\n",
      "            xi_jk (ndarray): 2D Correlation function for each Jackknife resampling.\n",
      "            xip (ndarray): Projected correlation function across the l.o.s.\n",
      "            xip_jk (ndarray): Projected correlation function across the l.o.s for each Jackknife resampling.\n",
      "            cov_jk (ndarray): Covariance matrix estimated using Jackknife resampling.\n",
      "            cov_jk_norm (ndarray): Normalised covariance matrix estimated using Jackknife resampling.      \n",
      "            std_from_cov (ndarray): Standard deviation computed from the diagonal elements of the covariance.\n",
      "    \n"
     ]
    }
   ],
   "source": [
    "print(corr.wgg.__doc__)"
   ]
  },
  {
   "cell_type": "markdown",
   "id": "9b370c52-0acd-4d5c-a544-8b14d5d6d25f",
   "metadata": {},
   "source": [
    "## Cross $w_{gg}$"
   ]
  },
  {
   "cell_type": "code",
   "execution_count": 26,
   "id": "08cdcdf8-5447-4245-8f23-10031fa3727a",
   "metadata": {},
   "outputs": [
    {
     "name": "stdout",
     "output_type": "stream",
     "text": [
      "CPU times: user 11min 39s, sys: 586 ms, total: 11min 40s\n",
      "Wall time: 25.3 s\n"
     ]
    }
   ],
   "source": [
    "%%time\n",
    "corr.compute_wgg_cross()"
   ]
  },
  {
   "cell_type": "code",
   "execution_count": 27,
   "id": "f076a569-9635-439a-9c15-f62183fa1912",
   "metadata": {},
   "outputs": [
    {
     "name": "stdout",
     "output_type": "stream",
     "text": [
      "\n",
      "        Computes the cross galaxy-galaxy correlation.\n",
      "        \n",
      "        Arguments:\n",
      "        -----------\n",
      "            dcat1 (treecorr.Catalog): Catalog of data points.\n",
      "            dcat2 (treecorr.Catalog): Catalog of data points.\n",
      "            rcat1 (treecorr.Catalog): Catalog of random points for dcat1.        \n",
      "            rcat2 (treecorr.Catalog): Catalog of random points for dcat2.        \n",
      "            config (dict): Configuration dictionary for the computation.\n",
      "        Attributes:\n",
      "        -----------\n",
      "            rp (ndarray): Array of projected radial separation bins.\n",
      "            mean_logrp (ndarray): Mean logarithmic projected radial separation bins.\n",
      "            mean_rp (ndarray): Mean projected radial separation bins.\n",
      "            Pi (ndarray): Array of l.o.s. separation bins.\n",
      "            xi (ndarray): 2D Correlation function in bins of projected and l.o.s distance.\n",
      "            xi_jk (ndarray): 2D Correlation function for each Jackknife resampling.\n",
      "            xip (ndarray): Projected correlation function across the l.o.s.\n",
      "            xip_jk (ndarray): Projected correlation function across the l.o.s for each Jackknife resampling.\n",
      "            cov_jk (ndarray): Covariance matrix estimated using Jackknife resampling.\n",
      "            cov_jk_norm (ndarray): Normalised covariance matrix estimated using Jackknife resampling.      \n",
      "            std_from_cov (ndarray): Standard deviation computed from the diagonal elements of the covariance.\n",
      "    \n"
     ]
    }
   ],
   "source": [
    "print(corr.wgg_cross.__doc__)"
   ]
  },
  {
   "cell_type": "markdown",
   "id": "d1139b04-5e50-45aa-b5c9-36f3911f0efa",
   "metadata": {},
   "source": [
    "## $w_{g+}$,$w_{g\\times}$"
   ]
  },
  {
   "cell_type": "code",
   "execution_count": 28,
   "id": "c67e15da-cf1d-492b-b3ae-6480be7a5409",
   "metadata": {},
   "outputs": [
    {
     "name": "stdout",
     "output_type": "stream",
     "text": [
      "CPU times: user 8min 29s, sys: 59.8 ms, total: 8min 29s\n",
      "Wall time: 18.6 s\n"
     ]
    }
   ],
   "source": [
    "%%time\n",
    "corr.compute_wgp()"
   ]
  },
  {
   "cell_type": "code",
   "execution_count": 29,
   "id": "605379e2-4e95-4179-b538-724b96233274",
   "metadata": {},
   "outputs": [
    {
     "name": "stdout",
     "output_type": "stream",
     "text": [
      "\n",
      "    Computes the galaxy-shear correlation.\n",
      "    \n",
      "    Arguments:\n",
      "    -----------\n",
      "        dcat (treecorr.Catalog): Catalog of galaxy points.\n",
      "        scat (treecorr.Catalog): Catalog of galaxy shapes.\n",
      "        rpcat (treecorr.Catalog): Catalog of random points for positions.        \n",
      "        rscat (treecorr.Catalog): Catalog of random points for shapes.\n",
      "        config (dict): Configuration dictionary for the computation.\n",
      "    Attributes:\n",
      "    -----------\n",
      "        rp (ndarray): Array of projected radial separation bins.\n",
      "        mean_logrp (ndarray): Mean logarithmic projected radial separation bins.\n",
      "        mean_rp (ndarray): Mean projected radial separation bins.\n",
      "        Pi (ndarray): Array of l.o.s. of the mean value pi separation bins.\n",
      "        Pi_bins (ndarray): Array of l.o.s. of the upper and lower limits of the separation bins.\n",
      "        xi (ndarray): 2D Correlation function in bins of projected and l.o.s distance.\n",
      "        xi_jk (ndarray): 2D Correlation function for each Jackknife resampling.\n",
      "        xip (ndarray): Projected correlation function across the l.o.s.\n",
      "        xip_jk (ndarray): Projected correlation function across the l.o.s for each Jackknife resampling.\n",
      "        cov_jk (ndarray): Covariance matrix estimated using Jackknife resampling.\n",
      "        cov_jk_norm (ndarray): Normalised covariance matrix estimated using Jackknife resampling.      \n",
      "        std_from_cov (ndarray): Standard deviation computed from the diagonal elements of the covariance.\n",
      "    \n"
     ]
    }
   ],
   "source": [
    "print(corr.wgp.__doc__)"
   ]
  },
  {
   "cell_type": "code",
   "execution_count": 30,
   "id": "6c28ed1e-e0e8-4048-9a91-93feb254bcf3",
   "metadata": {},
   "outputs": [
    {
     "name": "stdout",
     "output_type": "stream",
     "text": [
      "\n",
      "    Computes the projected cross component for galaxy-shear correlation. \n",
      "    \n",
      "    Arguments:\n",
      "    -----------\n",
      "        xi (ndarray): 2D galaxy-shear cross correlation function in bins of 3D radial coordinate and mu.\n",
      "        xi_jk (ndarray): 2D galaxy-shear cross correlation function for each Jackknife resampling.\n",
      "        rcor (ndarray): Array of projected radial separation bins.        \n",
      "        pcor (ndarray): Array of the upper and lower limits of the separation bins.\n",
      "        L_mu_jk (optional, ndarray): Legendre polinomials.\n",
      "        factor (optional,float): Factor to be included in the integration.\n",
      "\n",
      "    Attributes:\n",
      "    -----------\n",
      "        r (optional, ndarray): Array of 3D radial separation bins.\n",
      "        mu (optional, ndarray): Array of mu (cosine of the angle) separation bins.\n",
      "        rp (optional, ndarray): Array of projected radial separation bins.\n",
      "        pi (optional, ndarray): Array of l.o.s. separation bins.\n",
      "        xi (ndarray): 2D galaxy-shear cross correlation function.\n",
      "        xip (ndarray): Projected correlation function across the pcor direction.\n",
      "        xi_jk (ndarray): 2D galaxy-shear cross correlation function for each Jackknife resampling.\n",
      "        xip_jk (ndarray): Projected correlation function across pcor for each Jackknife resampling.\n",
      "        cov_jk (ndarray): Covariance matrix estimated using Jackknife resampling.\n",
      "        cov_jk_norm (ndarray): Normalised covariance matrix estimated using Jackknife resampling.      \n",
      "        std_from_cov (ndarray): Standard deviation computed from the diagonal elements of the covariance.\n",
      "    \n"
     ]
    }
   ],
   "source": [
    "print(corr.wgx.__doc__)"
   ]
  },
  {
   "cell_type": "markdown",
   "id": "a6b1d6f9-1883-4fa9-bef4-6e6ba807280d",
   "metadata": {},
   "source": [
    "## $w_{g+,2}$,$w_{g\\times,2}$"
   ]
  },
  {
   "cell_type": "code",
   "execution_count": 31,
   "id": "3d8b7c91-fc00-47be-9d3a-1f590a2785e7",
   "metadata": {},
   "outputs": [
    {
     "name": "stdout",
     "output_type": "stream",
     "text": [
      "CPU times: user 7h 10min 49s, sys: 7.2 s, total: 7h 10min 56s\n",
      "Wall time: 15min 58s\n"
     ]
    }
   ],
   "source": [
    "%%time\n",
    "corr.compute_wgp2()"
   ]
  },
  {
   "cell_type": "code",
   "execution_count": 32,
   "id": "82b5e8a3-6b2a-48e2-90c8-4e6490b38ece",
   "metadata": {},
   "outputs": [
    {
     "name": "stdout",
     "output_type": "stream",
     "text": [
      "\n",
      "    Computes the quadrupole component for galaxy-shear correlation. Eq 7 in arXiv 2307.02545.\n",
      "    \n",
      "    Arguments:\n",
      "    -----------\n",
      "        dcat (treecorr.Catalog): Catalog of galaxy points.\n",
      "        scat (treecorr.Catalog): Catalog of galaxy shapes.\n",
      "        rpcat (treecorr.Catalog): Catalog of random points for positions.        \n",
      "        rscat (treecorr.Catalog): Catalog of random points for shapes.        \n",
      "        config (dict): Configuration dictionary for the computation.\n",
      "    Attributes:\n",
      "    -----------\n",
      "        r (ndarray): Array of projected radial separation bins.\n",
      "        mu (ndarray): Array of mu (cosine of the angle) separation bins.\n",
      "        xi (ndarray): 2D galaxy-shear plus correlation function in bins of 3D radial coordinate and mu.\n",
      "        xi_jk (ndarray): 2D galaxy-shear plus correlation function for each Jackknife resampling.\n",
      "        xip (ndarray): Projected correlation function across mu.\n",
      "        xip_jk (ndarray): Projected correlation function across mu for each Jackknife resampling.\n",
      "        cov_jk (ndarray): Covariance matrix estimated using Jackknife resampling.\n",
      "        cov_jk_norm (ndarray): Normalised covariance matrix estimated using Jackknife resampling.      \n",
      "        std_from_cov (ndarray): Standard deviation computed from the diagonal elements of the covariance.\n",
      "    \n"
     ]
    }
   ],
   "source": [
    "print(corr.wgp2.__doc__)"
   ]
  },
  {
   "cell_type": "code",
   "execution_count": 33,
   "id": "46bf191c-f93d-45e9-9c02-7b5814d94648",
   "metadata": {},
   "outputs": [
    {
     "name": "stdout",
     "output_type": "stream",
     "text": [
      "\n",
      "    Computes the projected cross component for galaxy-shear correlation. \n",
      "    \n",
      "    Arguments:\n",
      "    -----------\n",
      "        xi (ndarray): 2D galaxy-shear cross correlation function in bins of 3D radial coordinate and mu.\n",
      "        xi_jk (ndarray): 2D galaxy-shear cross correlation function for each Jackknife resampling.\n",
      "        rcor (ndarray): Array of projected radial separation bins.        \n",
      "        pcor (ndarray): Array of the upper and lower limits of the separation bins.\n",
      "        L_mu_jk (optional, ndarray): Legendre polinomials.\n",
      "        factor (optional,float): Factor to be included in the integration.\n",
      "\n",
      "    Attributes:\n",
      "    -----------\n",
      "        r (optional, ndarray): Array of 3D radial separation bins.\n",
      "        mu (optional, ndarray): Array of mu (cosine of the angle) separation bins.\n",
      "        rp (optional, ndarray): Array of projected radial separation bins.\n",
      "        pi (optional, ndarray): Array of l.o.s. separation bins.\n",
      "        xi (ndarray): 2D galaxy-shear cross correlation function.\n",
      "        xip (ndarray): Projected correlation function across the pcor direction.\n",
      "        xi_jk (ndarray): 2D galaxy-shear cross correlation function for each Jackknife resampling.\n",
      "        xip_jk (ndarray): Projected correlation function across pcor for each Jackknife resampling.\n",
      "        cov_jk (ndarray): Covariance matrix estimated using Jackknife resampling.\n",
      "        cov_jk_norm (ndarray): Normalised covariance matrix estimated using Jackknife resampling.      \n",
      "        std_from_cov (ndarray): Standard deviation computed from the diagonal elements of the covariance.\n",
      "    \n"
     ]
    }
   ],
   "source": [
    "print(corr.wgx2.__doc__)"
   ]
  },
  {
   "cell_type": "markdown",
   "id": "614c79ee-032c-4586-91ad-dbb42c9737d4",
   "metadata": {},
   "source": [
    "# Make plots"
   ]
  },
  {
   "cell_type": "code",
   "execution_count": 34,
   "id": "4001de79-dd48-4ff2-8430-fc6576f7f62c",
   "metadata": {},
   "outputs": [
    {
     "data": {
      "text/plain": [
       "<matplotlib.legend.Legend at 0x7f5476662850>"
      ]
     },
     "execution_count": 34,
     "metadata": {},
     "output_type": "execute_result"
    },
    {
     "data": {
      "image/png": "[encoded data removed]",
      "text/plain": [
       "<Figure size 640x480 with 1 Axes>"
      ]
     },
     "metadata": {},
     "output_type": "display_data"
    }
   ],
   "source": [
    "plt.errorbar(corr.wgg.rp,corr.wgg.xip,yerr=corr.wgg.std_from_cov,label=r'$w_{dd}$ - auto',c='lightcoral')\n",
    "plt.errorbar(corr.wgg_cross.rp,corr.wgg_cross.xip,yerr=corr.wgg_cross.std_from_cov,label=r'$w_{ds}$',c='lightcoral',ls='--')\n",
    "plt.errorbar(corr.wgp.rp,corr.wgp.xip,yerr=corr.wgp.std_from_cov,label=r'$w_{g+}$',c='C3')\n",
    "plt.errorbar(corr.wgp2.r,corr.wgp2.xip,yerr=corr.wgp2.std_from_cov,label=r'$w_{g+,2}$',c='brown')\n",
    "plt.xscale('log')\n",
    "plt.yscale('log')\n",
    "plt.ylabel(r'$w[Mpc/h]$',fontsize=14)\n",
    "plt.xlabel(r'$r(_p) [Mpc/h]$',fontsize=14)\n",
    "plt.legend(frameon=False,loc=1)"
   ]
  },
  {
   "cell_type": "code",
   "execution_count": 35,
   "id": "5379a062-2ee0-4b40-8413-639beac48538",
   "metadata": {},
   "outputs": [
    {
     "data": {
      "text/plain": [
       "<matplotlib.legend.Legend at 0x7f546c5a6640>"
      ]
     },
     "execution_count": 35,
     "metadata": {},
     "output_type": "execute_result"
    },
    {
     "data": {
      "image/png": "[encoded data removed]",
      "text/plain": [
       "<Figure size 640x480 with 1 Axes>"
      ]
     },
     "metadata": {},
     "output_type": "display_data"
    }
   ],
   "source": [
    "plt.errorbar(corr.wgp.rp,corr.wgx.xip,yerr=corr.wgp.std_from_cov,label=r'$w_{gx}$',c='C0')\n",
    "plt.errorbar(corr.wgp2.r,corr.wgx2.xip,yerr=corr.wgp2.std_from_cov,label=r'$w_{gx,2}$',c='darkblue')\n",
    "plt.plot(corr.wgp.rp,corr.wgp.rp*0.,'C7--')\n",
    "plt.xscale('log')\n",
    "plt.ylabel(r'$w_\\times[Mpc/h]$',fontsize=14)\n",
    "plt.xlabel(r'$r(_p) [Mpc/h]$',fontsize=14)\n",
    "plt.legend(frameon=False)"
   ]
  },
  {
   "cell_type": "code",
   "execution_count": 36,
   "id": "d6feb4ff-4f97-4b38-9de7-9c49d81c3505",
   "metadata": {},
   "outputs": [
    {
     "data": {
      "text/plain": [
       "<matplotlib.colorbar.Colorbar at 0x7f546c46cb50>"
      ]
     },
     "execution_count": 36,
     "metadata": {},
     "output_type": "execute_result"
    },
    {
     "data": {
      "image/png": "[encoded data removed]",
      "text/plain": [
       "<Figure size 800x800 with 5 Axes>"
      ]
     },
     "metadata": {},
     "output_type": "display_data"
    }
   ],
   "source": [
    "fig, ax = plt.subplots(2,2, figsize=(8,8),sharex = True,sharey=True)\n",
    "ax = ax.flatten()\n",
    "im = ax[0].imshow(corr.wgg.cov_jk_norm,origin='lower',extent=[rmin,rmax,rmin,rmax],cmap='Reds')\n",
    "ax[1].imshow(corr.wgg_cross.cov_jk_norm,origin='lower',extent=[rmin,rmax,rmin,rmax],cmap='Reds')\n",
    "ax[2].imshow(corr.wgp.cov_jk_norm,origin='lower',extent=[rmin,rmax,rmin,rmax],cmap='Reds')\n",
    "ax[3].imshow(corr.wgp2.cov_jk_norm,origin='lower',extent=[rmin,rmax,rmin,rmax],cmap='Reds')\n",
    "\n",
    "ax[0].set_title(r'$w_{gg}[Mpc/h]$ - auto')\n",
    "ax[1].set_title(r'$w_{gg}[Mpc/h]$ - cross')\n",
    "ax[2].set_title(r'$w_{g+}[Mpc/h]$')\n",
    "ax[3].set_title(r'$w_{g+,2}[Mpc/h]$')\n",
    "plt.colorbar(im, label=r'$\\tilde{C_{ij}}$',ax = ax, orientation='horizontal',pad=0.1)"
   ]
  },
  {
   "cell_type": "markdown",
   "id": "25d05f86-b988-45d5-a37f-64069a7714f6",
   "metadata": {},
   "source": [
    "# Fast $w_{g+}$ and $w_{g+,2}$"
   ]
  },
  {
   "cell_type": "markdown",
   "id": "4c3dae68-5889-48c3-8eeb-a7a7b32a94ce",
   "metadata": {},
   "source": [
    "## It computes first the number of pairs in the randoms (RR) and asumes that SR = 0"
   ]
  },
  {
   "cell_type": "code",
   "execution_count": 37,
   "id": "1117d474-bff5-44c1-ab39-ac3e81bd0bcc",
   "metadata": {},
   "outputs": [
    {
     "name": "stdout",
     "output_type": "stream",
     "text": [
      "Computing normalisation factors and the number of pairs in the random catalogues...\n",
      "Everything ok :) Finished\n",
      "CPU times: user 5min 14s, sys: 36.8 ms, total: 5min 14s\n",
      "Wall time: 11.7 s\n"
     ]
    }
   ],
   "source": [
    "%%time\n",
    "corr.compute_wgp_fast()"
   ]
  },
  {
   "cell_type": "code",
   "execution_count": 38,
   "id": "00c037c2-0c68-42ed-aa94-f33e503264c2",
   "metadata": {},
   "outputs": [
    {
     "name": "stdout",
     "output_type": "stream",
     "text": [
      "\n",
      "    Allows to compute the projected galaxy-shear correlation (wg+). This version allows the pre-computation of the random number of pairs and then it can be executed to compute the galaxy-shear correlation varying the shapes of the galaxies in the shape catalogue.\n",
      "    \n",
      "    Arguments:\n",
      "    -----------\n",
      "        dcat (treecorr.Catalog): Catalog of galaxy points.\n",
      "        scat (treecorr.Catalog): Catalog of galaxy shapes.\n",
      "        rpcat (treecorr.Catalog): Catalog of random points for positions.        \n",
      "        rscat (treecorr.Catalog): Catalog of random points for shapes.        \n",
      "        config (dict): Configuration dictionary for the computation.\n",
      "    Methods:\n",
      "    -----------\n",
      "        execute(new_shapes=False,shapes=[]): Allows the computation of the projected galaxy-shape correlation. It can be used giving a different shape catalogue as input.\n",
      "    \n"
     ]
    }
   ],
   "source": [
    "print(corr.wgp_fast.__doc__)"
   ]
  },
  {
   "cell_type": "code",
   "execution_count": 39,
   "id": "208cbe61-d1f2-4eac-b74b-7d5f76c9fb81",
   "metadata": {},
   "outputs": [
    {
     "name": "stdout",
     "output_type": "stream",
     "text": [
      "CPU times: user 1min 34s, sys: 43.9 ms, total: 1min 34s\n",
      "Wall time: 3.24 s\n"
     ]
    }
   ],
   "source": [
    "%%time\n",
    "corr.wgp_fast.use_new_shapes(shapes)\n",
    "corr.wgp_fast.execute()"
   ]
  },
  {
   "cell_type": "code",
   "execution_count": 40,
   "id": "fa8e8ea6-e0a3-45b9-9481-52fce0cae6f5",
   "metadata": {},
   "outputs": [
    {
     "name": "stdout",
     "output_type": "stream",
     "text": [
      "Computing normalisation factors and the number of pairs in the random catalogues...\n",
      "Everything ok :) Finished\n",
      "CPU times: user 4h 53min 51s, sys: 4.33 s, total: 4h 53min 56s\n",
      "Wall time: 11min 14s\n"
     ]
    }
   ],
   "source": [
    "%%time\n",
    "corr.compute_wgp2_fast()"
   ]
  },
  {
   "cell_type": "code",
   "execution_count": 41,
   "id": "04c31993-39fd-4512-8944-76cc70f4bba1",
   "metadata": {},
   "outputs": [
    {
     "name": "stdout",
     "output_type": "stream",
     "text": [
      "\n",
      "    Allows to compute the quadrupole component for galaxy-shear correlation. Eq 7 in arXiv 2307.02545. This version allows the pre-computation of the random number of pairs and then it can be executed to compute the galaxy-shear correlation varying the shapes of the galaxies in the shape catalogue.\n",
      "    \n",
      "    Arguments:\n",
      "    -----------\n",
      "        config (dict): Configuration dictionary for the computation.\n",
      "        dcat (treecorr.Catalog): Catalog of galaxy points.\n",
      "        scat (treecorr.Catalog): Catalog of galaxy shapes.\n",
      "        rpcat (treecorr.Catalog): Catalog of random points for positions.        \n",
      "        rscat (treecorr.Catalog): Catalog of random points for shapes.        \n",
      "    Methods:\n",
      "    -----------\n",
      "        execute(new_shapes=False,shapes=[]): Allows the computation of the projected galaxy-shape correlation. It can be used giving a different shape catalogue as input.\n",
      "    \n"
     ]
    }
   ],
   "source": [
    "print(corr.wgp2_fast.__doc__)"
   ]
  },
  {
   "cell_type": "code",
   "execution_count": null,
   "id": "869d3d67-d680-4daf-8c37-819dcf105264",
   "metadata": {},
   "outputs": [],
   "source": [
    "%%time\n",
    "corr.wgp_fast.use_new_shapes(shapes)\n",
    "corr.wgp2_fast.execute()"
   ]
  },
  {
   "cell_type": "code",
   "execution_count": null,
   "id": "93e4ee20-0773-49c0-b4b7-7a6a7609e856",
   "metadata": {},
   "outputs": [],
   "source": [
    "plt.errorbar(corr.wgp.rp,corr.wgp.xip,yerr=corr.wgp.std_from_cov,label=r'$w_{g+}$',c='C3',alpha = 0.5,lw=4)\n",
    "plt.errorbar(corr.wgp_fast.rp,corr.wgp_fast.xip,yerr=corr.wgp_fast.std_from_cov,label=r'$w_{g+}$',c='C3',ls='--')\n",
    "plt.errorbar(corr.wgp2.r,corr.wgp2.xip,yerr=corr.wgp2.std_from_cov,label=r'$w_{g+,2}$',c='brown',alpha = 0.5,lw=4)\n",
    "plt.errorbar(corr.wgp2_fast.r,corr.wgp2_fast.xip,yerr=corr.wgp2_fast.std_from_cov,label=r'$w_{g+,2}$',c='brown',ls='--')\n",
    "plt.xscale('log')\n",
    "plt.yscale('log')\n",
    "plt.ylabel(r'$w[Mpc/h]$',fontsize=14)\n",
    "plt.xlabel(r'$r(_p) [Mpc/h]$',fontsize=14)\n",
    "plt.legend(frameon=False)"
   ]
  },
  {
   "cell_type": "code",
   "execution_count": null,
   "id": "d5ec1cd3-29c3-4fa3-b75e-b57ae1cc24c1",
   "metadata": {},
   "outputs": [],
   "source": []
  }
 ],
 "metadata": {
  "kernelspec": {
   "display_name": "scipic_home",
   "language": "python",
   "name": "scipic_home"
  },
  "language_info": {
   "codemirror_mode": {
    "name": "ipython",
    "version": 3
   },
   "file_extension": ".py",
   "mimetype": "text/x-python",
   "name": "python",
   "nbconvert_exporter": "python",
   "pygments_lexer": "ipython3",
   "version": "3.9.18"
  }
 },
 "nbformat": 4,
 "nbformat_minor": 5
}
